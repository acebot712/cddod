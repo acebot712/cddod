{
 "cells": [
  {
   "cell_type": "code",
   "execution_count": 1,
   "metadata": {},
   "outputs": [],
   "source": [
    "# importing prerequisites\n",
    "import sys\n",
    "import requests\n",
    "import tarfile\n",
    "import json\n",
    "import numpy as np\n",
    "from os import path\n",
    "from PIL import Image\n",
    "from PIL import ImageFont, ImageDraw\n",
    "from glob import glob\n",
    "from matplotlib import pyplot as plt\n",
    "import pandas as pd\n",
    "%matplotlib inline\n",
    "\n",
    "\n",
    "import random\n",
    "import pprint\n",
    "import time\n",
    "from optparse import OptionParser\n",
    "import pickle\n",
    "import math\n",
    "import cv2\n",
    "import copy\n",
    "import tensorflow as tf\n",
    "import os\n"
   ]
  },
  {
   "cell_type": "code",
   "execution_count": 2,
   "metadata": {},
   "outputs": [
    {
     "data": {
      "text/plain": [
       "6461141"
      ]
     },
     "execution_count": 2,
     "metadata": {},
     "output_type": "execute_result"
    }
   ],
   "source": [
    "fname = 'examples.tar.gz'\n",
    "url = 'https://dax-cdn.cdn.appdomain.cloud/dax-publaynet/1.0.0/' + fname\n",
    "r = requests.get(url)\n",
    "open(fname , 'wb').write(r.content)"
   ]
  },
  {
   "cell_type": "code",
   "execution_count": 3,
   "metadata": {},
   "outputs": [],
   "source": [
    "# Extracting the dataset\n",
    "tar = tarfile.open(fname)\n",
    "tar.extractall()\n",
    "tar.close()"
   ]
  },
  {
   "cell_type": "code",
   "execution_count": 4,
   "metadata": {},
   "outputs": [
    {
     "data": {
      "text/plain": [
       "True"
      ]
     },
     "execution_count": 4,
     "metadata": {},
     "output_type": "execute_result"
    }
   ],
   "source": [
    "# Verifying the file was extracted properly\n",
    "data_path = \"examples/\"\n",
    "path.exists(data_path)"
   ]
  },
  {
   "cell_type": "code",
   "execution_count": 5,
   "metadata": {},
   "outputs": [],
   "source": [
    "# Define color code\n",
    "colors = {'title': (255, 0, 0),\n",
    "          'text': (0, 255, 0),\n",
    "          'figure': (0, 0, 255),\n",
    "          'table': (255, 255, 0),\n",
    "          'list': (0, 255, 255)}"
   ]
  },
  {
   "cell_type": "code",
   "execution_count": 6,
   "metadata": {},
   "outputs": [],
   "source": [
    "# Function to viz the annotation\n",
    "def markup(image, annotations):\n",
    "    ''' Draws the segmentation, bounding box, and label of each annotation\n",
    "    '''\n",
    "    draw = ImageDraw.Draw(image, 'RGBA')\n",
    "    for annotation in annotations:\n",
    "        # Draw segmentation\n",
    "        draw.polygon(annotation['segmentation'][0],\n",
    "                     fill=colors[samples['categories'][annotation['category_id'] - 1]['name']] + (64,))\n",
    "        # Draw bbox\n",
    "        draw.rectangle(\n",
    "            (annotation['bbox'][0],\n",
    "             annotation['bbox'][1],\n",
    "             annotation['bbox'][0] + annotation['bbox'][2],\n",
    "             annotation['bbox'][1] + annotation['bbox'][3]),\n",
    "            outline=colors[samples['categories'][annotation['category_id'] - 1]['name']] + (255,),\n",
    "            width=2\n",
    "        )\n",
    "        # Draw label\n",
    "        w, h = draw.textsize(text=samples['categories'][annotation['category_id'] - 1]['name'],\n",
    "                             font=font)\n",
    "        if annotation['bbox'][3] < h:\n",
    "            draw.rectangle(\n",
    "                (annotation['bbox'][0] + annotation['bbox'][2],\n",
    "                 annotation['bbox'][1],\n",
    "                 annotation['bbox'][0] + annotation['bbox'][2] + w,\n",
    "                 annotation['bbox'][1] + h),\n",
    "                fill=(64, 64, 64, 255)\n",
    "            )\n",
    "            draw.text(\n",
    "                (annotation['bbox'][0] + annotation['bbox'][2],\n",
    "                 annotation['bbox'][1]),\n",
    "                text=samples['categories'][annotation['category_id'] - 1]['name'],\n",
    "                fill=(255, 255, 255, 255),\n",
    "                font=font\n",
    "            )\n",
    "        else:\n",
    "            draw.rectangle(\n",
    "                (annotation['bbox'][0],\n",
    "                 annotation['bbox'][1],\n",
    "                 annotation['bbox'][0] + w,\n",
    "                 annotation['bbox'][1] + h),\n",
    "                fill=(64, 64, 64, 255)\n",
    "            )\n",
    "            draw.text(\n",
    "                (annotation['bbox'][0],\n",
    "                 annotation['bbox'][1]),\n",
    "                text=samples['categories'][annotation['category_id'] - 1]['name'],\n",
    "                fill=(255, 255, 255, 255),\n",
    "                font=font\n",
    "            )\n",
    "    return np.array(image)"
   ]
  },
  {
   "cell_type": "markdown",
   "metadata": {},
   "source": [
    "(Filename,XMin,XMax,Ymin, YMax, ClassLabel)"
   ]
  },
  {
   "cell_type": "markdown",
   "metadata": {},
   "source": [
    "Change file name as you need for JSON file containing annotation details."
   ]
  },
  {
   "cell_type": "code",
   "execution_count": 7,
   "metadata": {},
   "outputs": [],
   "source": [
    "# Parse the JSON file and read all the images and labels\n",
    "with open('examples/samples.json', 'r') as fp:\n",
    "    samples = json.load(fp)\n",
    "# Index images\n",
    "images = {}\n",
    "for image in samples['images']:\n",
    "    images[image['id']] = {'file_name': \"examples/\" + image['file_name'], 'annotations': []}\n",
    "for ann in samples['annotations']:\n",
    "    images[ann['image_id']]['annotations'].append(ann)"
   ]
  },
  {
   "cell_type": "code",
   "execution_count": 8,
   "metadata": {},
   "outputs": [],
   "source": [
    "\n",
    "train_df_dict = {\n",
    "    \"file_name\": [],\n",
    "    \"x_min\": [],\n",
    "    \"y_min\": [],\n",
    "    \"x_max\": [],\n",
    "    \"y_max\": [],\n",
    "    \"class_name\": []\n",
    "}\n",
    "for i, (_, image) in enumerate(images.items()):\n",
    "\n",
    "    for ann in image['annotations']:\n",
    "        train_df_dict['file_name'].append(image['file_name'])\n",
    "        train_df_dict['x_min'].append(ann['bbox'][0])\n",
    "        train_df_dict['x_max'].append(ann['bbox'][0] + ann['bbox'][2])\n",
    "        train_df_dict['y_min'].append(ann['bbox'][1])\n",
    "        train_df_dict['y_max'].append(ann['bbox'][1] +  ann['bbox'][3])\n",
    "        train_df_dict['class_name'].append(samples['categories'][ann['category_id'] - 1]['name'])\n",
    "    "
   ]
  },
  {
   "cell_type": "code",
   "execution_count": 9,
   "metadata": {},
   "outputs": [],
   "source": [
    "# df (file_name,x_min, x_max, y_min, y_max, class_name)\n",
    "train_df = pd.DataFrame.from_dict(data=train_df_dict)\n"
   ]
  },
  {
   "cell_type": "code",
   "execution_count": 10,
   "metadata": {},
   "outputs": [
    {
     "data": {
      "text/html": [
       "<div>\n",
       "<style scoped>\n",
       "    .dataframe tbody tr th:only-of-type {\n",
       "        vertical-align: middle;\n",
       "    }\n",
       "\n",
       "    .dataframe tbody tr th {\n",
       "        vertical-align: top;\n",
       "    }\n",
       "\n",
       "    .dataframe thead th {\n",
       "        text-align: right;\n",
       "    }\n",
       "</style>\n",
       "<table border=\"1\" class=\"dataframe\">\n",
       "  <thead>\n",
       "    <tr style=\"text-align: right;\">\n",
       "      <th></th>\n",
       "      <th>file_name</th>\n",
       "      <th>x_min</th>\n",
       "      <th>y_min</th>\n",
       "      <th>x_max</th>\n",
       "      <th>y_max</th>\n",
       "      <th>class_name</th>\n",
       "    </tr>\n",
       "  </thead>\n",
       "  <tbody>\n",
       "    <tr>\n",
       "      <th>0</th>\n",
       "      <td>examples/PMC5491943_00004.jpg</td>\n",
       "      <td>121.89</td>\n",
       "      <td>41.80</td>\n",
       "      <td>549.88</td>\n",
       "      <td>76.30</td>\n",
       "      <td>text</td>\n",
       "    </tr>\n",
       "    <tr>\n",
       "      <th>1</th>\n",
       "      <td>examples/PMC5491943_00004.jpg</td>\n",
       "      <td>121.89</td>\n",
       "      <td>83.47</td>\n",
       "      <td>549.83</td>\n",
       "      <td>129.97</td>\n",
       "      <td>text</td>\n",
       "    </tr>\n",
       "    <tr>\n",
       "      <th>2</th>\n",
       "      <td>examples/PMC5491943_00004.jpg</td>\n",
       "      <td>121.89</td>\n",
       "      <td>163.31</td>\n",
       "      <td>549.97</td>\n",
       "      <td>247.00</td>\n",
       "      <td>text</td>\n",
       "    </tr>\n",
       "    <tr>\n",
       "      <th>3</th>\n",
       "      <td>examples/PMC5491943_00004.jpg</td>\n",
       "      <td>121.89</td>\n",
       "      <td>254.37</td>\n",
       "      <td>549.85</td>\n",
       "      <td>362.46</td>\n",
       "      <td>text</td>\n",
       "    </tr>\n",
       "    <tr>\n",
       "      <th>4</th>\n",
       "      <td>examples/PMC5491943_00004.jpg</td>\n",
       "      <td>121.89</td>\n",
       "      <td>369.82</td>\n",
       "      <td>336.51</td>\n",
       "      <td>380.33</td>\n",
       "      <td>text</td>\n",
       "    </tr>\n",
       "    <tr>\n",
       "      <th>...</th>\n",
       "      <td>...</td>\n",
       "      <td>...</td>\n",
       "      <td>...</td>\n",
       "      <td>...</td>\n",
       "      <td>...</td>\n",
       "      <td>...</td>\n",
       "    </tr>\n",
       "    <tr>\n",
       "      <th>188</th>\n",
       "      <td>examples/PMC3654277_00006.jpg</td>\n",
       "      <td>308.61</td>\n",
       "      <td>696.04</td>\n",
       "      <td>534.00</td>\n",
       "      <td>709.48</td>\n",
       "      <td>text</td>\n",
       "    </tr>\n",
       "    <tr>\n",
       "      <th>189</th>\n",
       "      <td>examples/PMC3654277_00006.jpg</td>\n",
       "      <td>50.58</td>\n",
       "      <td>276.69</td>\n",
       "      <td>548.74</td>\n",
       "      <td>309.71</td>\n",
       "      <td>text</td>\n",
       "    </tr>\n",
       "    <tr>\n",
       "      <th>190</th>\n",
       "      <td>examples/PMC3654277_00006.jpg</td>\n",
       "      <td>50.83</td>\n",
       "      <td>70.68</td>\n",
       "      <td>546.24</td>\n",
       "      <td>271.09</td>\n",
       "      <td>figure</td>\n",
       "    </tr>\n",
       "    <tr>\n",
       "      <th>191</th>\n",
       "      <td>examples/PMC3654277_00006.jpg</td>\n",
       "      <td>325.94</td>\n",
       "      <td>718.30</td>\n",
       "      <td>548.77</td>\n",
       "      <td>743.11</td>\n",
       "      <td>list</td>\n",
       "    </tr>\n",
       "    <tr>\n",
       "      <th>192</th>\n",
       "      <td>examples/PMC3654277_00006.jpg</td>\n",
       "      <td>308.61</td>\n",
       "      <td>676.96</td>\n",
       "      <td>383.08</td>\n",
       "      <td>689.84</td>\n",
       "      <td>title</td>\n",
       "    </tr>\n",
       "  </tbody>\n",
       "</table>\n",
       "<p>193 rows × 6 columns</p>\n",
       "</div>"
      ],
      "text/plain": [
       "                         file_name   x_min   y_min   x_max   y_max class_name\n",
       "0    examples/PMC5491943_00004.jpg  121.89   41.80  549.88   76.30       text\n",
       "1    examples/PMC5491943_00004.jpg  121.89   83.47  549.83  129.97       text\n",
       "2    examples/PMC5491943_00004.jpg  121.89  163.31  549.97  247.00       text\n",
       "3    examples/PMC5491943_00004.jpg  121.89  254.37  549.85  362.46       text\n",
       "4    examples/PMC5491943_00004.jpg  121.89  369.82  336.51  380.33       text\n",
       "..                             ...     ...     ...     ...     ...        ...\n",
       "188  examples/PMC3654277_00006.jpg  308.61  696.04  534.00  709.48       text\n",
       "189  examples/PMC3654277_00006.jpg   50.58  276.69  548.74  309.71       text\n",
       "190  examples/PMC3654277_00006.jpg   50.83   70.68  546.24  271.09     figure\n",
       "191  examples/PMC3654277_00006.jpg  325.94  718.30  548.77  743.11       list\n",
       "192  examples/PMC3654277_00006.jpg  308.61  676.96  383.08  689.84      title\n",
       "\n",
       "[193 rows x 6 columns]"
      ]
     },
     "execution_count": 10,
     "metadata": {},
     "output_type": "execute_result"
    }
   ],
   "source": [
    "train_df"
   ]
  },
  {
   "cell_type": "code",
   "execution_count": 11,
   "metadata": {},
   "outputs": [],
   "source": [
    "#image = plt.imread(train_df.iloc[0].file_name)"
   ]
  },
  {
   "cell_type": "code",
   "execution_count": 12,
   "metadata": {},
   "outputs": [
    {
     "data": {
      "text/plain": [
       "int"
      ]
     },
     "execution_count": 12,
     "metadata": {},
     "output_type": "execute_result"
    }
   ],
   "source": [
    "#type(int(train_df['y_min'][1]))"
   ]
  },
  {
   "cell_type": "code",
   "execution_count": 13,
   "metadata": {},
   "outputs": [],
   "source": [
    "train_df.to_csv('annotate.txt', header=None, index=None, sep=',')"
   ]
  }
 ],
 "metadata": {
  "kernelspec": {
   "display_name": "Python 3",
   "language": "python",
   "name": "python3"
  },
  "language_info": {
   "codemirror_mode": {
    "name": "ipython",
    "version": 3
   },
   "file_extension": ".py",
   "mimetype": "text/x-python",
   "name": "python",
   "nbconvert_exporter": "python",
   "pygments_lexer": "ipython3",
   "version": "3.8.5"
  }
 },
 "nbformat": 4,
 "nbformat_minor": 4
}
