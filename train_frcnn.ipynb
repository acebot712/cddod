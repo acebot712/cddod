{
 "cells": [
  {
   "cell_type": "code",
   "execution_count": 1,
   "metadata": {},
   "outputs": [],
   "source": [
    "import random\n",
    "import pprint\n",
    "import sys\n",
    "import time\n",
    "import numpy as np\n",
    "from optparse import OptionParser\n",
    "import pickle\n",
    "import math\n",
    "import cv2\n",
    "import copy\n",
    "from matplotlib import pyplot as plt\n",
    "import tensorflow as tf\n",
    "import pandas as pd\n",
    "import os\n",
    "\n",
    "from sklearn.metrics import average_precision_score\n",
    "\n",
    "from keras import backend as K\n",
    "from keras.optimizers import Adam, SGD, RMSprop\n",
    "from keras.layers import Flatten, Dense, Input, Conv2D, MaxPooling2D, Dropout\n",
    "from keras.layers import GlobalAveragePooling2D, GlobalMaxPooling2D, TimeDistributed\n",
    "from keras.engine.topology import get_source_inputs\n",
    "from keras.utils import layer_utils\n",
    "from keras.utils.data_utils import get_file\n",
    "from keras.objectives import categorical_crossentropy\n",
    "\n",
    "from keras.models import Model\n",
    "from keras.utils import generic_utils\n",
    "from keras.engine import Layer, InputSpec\n",
    "from keras import initializers, regularizers"
   ]
  },
  {
   "cell_type": "code",
   "execution_count": 1,
   "metadata": {},
   "outputs": [],
   "source": [
    "class Config:\n",
    "\n",
    "\tdef __init__(self):\n",
    "\n",
    "\t\tself.verbose = True\n",
    "\n",
    "\t\tself.network = 'vgg'\n",
    "\n",
    "\t\tself.use_horizontal_flips = False\n",
    "\t\tself.use_vertical_flips = False\n",
    "\t\tself.rot_90 = False\n",
    "\n",
    "\n",
    "\t\tself.anchor_box_scales = [64, 128, 256] \n",
    "\n",
    "\t\tself.anchor_box_ratios = [[1, 1], [1./math.sqrt(2), 2./math.sqrt(2)], [2./math.sqrt(2), 1./math.sqrt(2)]]\n",
    "\n",
    "\t\tself.im_size = 300\n",
    "\n",
    "\t\tself.img_channel_mean = [128, 128, 128]\n",
    "\t\tself.img_scaling_factor = 1.0\n",
    "\n",
    "\t\tself.num_rois = 4\n",
    "\n",
    "\t\tself.rpn_stride = 16\n",
    "\n",
    "\t\tself.balanced_classes = False\n",
    "\n",
    "\t\tself.std_scaling = 4.0\n",
    "\t\tself.classifier_regr_std = [8.0, 8.0, 4.0, 4.0]\n",
    "\n",
    "\t\tself.rpn_min_overlap = 0.3\n",
    "\t\tself.rpn_max_overlap = 0.7\n",
    "\n",
    "\t\tself.classifier_min_overlap = 0.1\n",
    "\t\tself.classifier_max_overlap = 0.5\n",
    "\n",
    "\t\tself.class_mapping = None\n",
    "\n",
    "\t\tself.model_path = None"
   ]
  },
  {
   "cell_type": "code",
   "execution_count": null,
   "metadata": {},
   "outputs": [],
   "source": []
  }
 ],
 "metadata": {
  "kernelspec": {
   "display_name": "Python 3",
   "language": "python",
   "name": "python3"
  },
  "language_info": {
   "codemirror_mode": {
    "name": "ipython",
    "version": 3
   },
   "file_extension": ".py",
   "mimetype": "text/x-python",
   "name": "python",
   "nbconvert_exporter": "python",
   "pygments_lexer": "ipython3",
   "version": "3.8.5"
  }
 },
 "nbformat": 4,
 "nbformat_minor": 4
}
